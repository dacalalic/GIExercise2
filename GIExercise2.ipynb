{
 "cells": [
  {
   "cell_type": "code",
   "execution_count": 120,
   "metadata": {
    "colab": {
     "base_uri": "https://localhost:8080/"
    },
    "id": "qhUiMp_AZZ8V",
    "outputId": "52c99cf8-cae3-4017-e13a-c48a72f9da66"
   },
   "outputs": [
    {
     "name": "stdout",
     "output_type": "stream",
     "text": [
      "Requirement already satisfied: pysam in /usr/local/lib/python3.7/dist-packages (0.18.0)\n"
     ]
    }
   ],
   "source": [
    "!pip install pysam"
   ]
  },
  {
   "cell_type": "code",
   "execution_count": 121,
   "metadata": {
    "id": "kJ2V0olpZlBb"
   },
   "outputs": [],
   "source": [
    "import pysam as ps"
   ]
  },
  {
   "cell_type": "code",
   "execution_count": 122,
   "metadata": {
    "colab": {
     "base_uri": "https://localhost:8080/"
    },
    "id": "lqxbaaVsZ_Cd",
    "outputId": "4f5f1fa0-0655-4ee6-b16b-ea87739d9d2d"
   },
   "outputs": [
    {
     "name": "stdout",
     "output_type": "stream",
     "text": [
      "C0HVYACXX120402:7:1207:5722:57044\t1187\t#20\t9483249\t27\t76M\t#20\t9483382\t209\tTTTTCAAACAGTATCTATGCCTGCCAAATGTGAACATATAAAAAAAAACCAGAATGTGCCATTCTGATTTAAACTG\tarray('B', [28, 28, 27, 29, 31, 30, 31, 31, 29, 31, 35, 30, 29, 31, 34, 30, 29, 23, 41, 32, 20, 30, 29, 34, 34, 29, 30, 31, 30, 30, 30, 33, 33, 26, 39, 12, 25, 19, 32, 30, 35, 28, 35, 33, 23, 33, 35, 36, 30, 38, 33, 41, 34, 35, 31, 33, 23, 30, 30, 36, 27, 32, 29, 34, 35, 41, 33, 31, 33, 29, 32, 32, 31, 31, 31, 34])\t[('XA', 'GL000217.1,-110754,76M,1;'), ('BD', 'NNNNNNNNNNNNNNNNNNNNNNNNNNNNNNNNNNNNNNNNNNNNNNNNNNNNNNNNNNNNNNNNNNNNNNNNNNNN'), ('MD', '76'), ('RG', '1'), ('BI', 'NNNNNNNNNNNNNNNNNNNNNNNNNNNNNNNNNNNNNNNNNNNNNNNNNNNNNNNNNNNNNNNNNNNNNNNNNNNN'), ('NM', 0), ('MQ', 27), ('AS', 76), ('XS', 71)]\n"
     ]
    }
   ],
   "source": [
    "bamfile = ps.AlignmentFile(\"sample_data/merged-tumor.bam\", \"rb\")\n",
    "read = next(bamfile)\n",
    "print(read)"
   ]
  },
  {
   "cell_type": "code",
   "execution_count": 123,
   "metadata": {
    "colab": {
     "base_uri": "https://localhost:8080/"
    },
    "id": "4Ms6FowXhLLt",
    "outputId": "53e6d7bc-c3c3-4fb3-e264-62bac40400a9"
   },
   "outputs": [
    {
     "name": "stdout",
     "output_type": "stream",
     "text": [
      "Name of contig: 21\n",
      "Position: 9483248\n",
      "Mapping quality: 27\n",
      "Cigar string: 76M\n"
     ]
    }
   ],
   "source": [
    "print(f\"Name of contig: {read.reference_name}\")\n",
    "print(f\"Position: {read.reference_start}\")\n",
    "print(f\"Mapping quality: {read.mapping_quality}\")\n",
    "print(f\"Cigar string: {read.cigarstring}\")"
   ]
  },
  {
   "cell_type": "code",
   "execution_count": 124,
   "metadata": {
    "colab": {
     "base_uri": "https://localhost:8080/"
    },
    "id": "rwwO4WHJrL89",
    "outputId": "d272a9d6-7da7-480b-c3e4-15aa7bb96c68"
   },
   "outputs": [
    {
     "name": "stdout",
     "output_type": "stream",
     "text": [
      "Flag: 1187\n",
      "Binary representation of flag: 10010100011\n"
     ]
    }
   ],
   "source": [
    "print(f\"Flag: {read.flag}\")\n",
    "print(f\"Binary representation of flag: {read.flag:011b}\")"
   ]
  },
  {
   "cell_type": "code",
   "execution_count": 125,
   "metadata": {
    "colab": {
     "base_uri": "https://localhost:8080/"
    },
    "id": "QE1D2Clru19i",
    "outputId": "81b4f188-5c25-4eb6-c02b-4e3e8a0833ee"
   },
   "outputs": [
    {
     "name": "stdout",
     "output_type": "stream",
     "text": [
      "Name of contig: 21\n",
      "Flag: 1187\n",
      "Binary representation of flag: 10010100011\n",
      "******************************************************************\n",
      "Name of contig: 21\n",
      "Flag: 163\n",
      "Binary representation of flag: 00010100011\n",
      "******************************************************************\n",
      "Name of contig: 21\n",
      "Flag: 99\n",
      "Binary representation of flag: 00001100011\n",
      "******************************************************************\n",
      "Name of contig: 21\n",
      "Flag: 99\n",
      "Binary representation of flag: 00001100011\n",
      "******************************************************************\n",
      "Name of contig: 21\n",
      "Flag: 99\n",
      "Binary representation of flag: 00001100011\n",
      "******************************************************************\n",
      "Name of contig: 21\n",
      "Flag: 163\n",
      "Binary representation of flag: 00010100011\n",
      "******************************************************************\n"
     ]
    }
   ],
   "source": [
    "# We need this line to restart the generator.\n",
    "bamfile = ps.AlignmentFile(\"sample_data/merged-tumor.bam\", \"rb\")\n",
    "i = 0\n",
    "for r in bamfile:\n",
    "  print(f\"Name of contig: {r.reference_name}\")\n",
    "  print(f\"Flag: {r.flag}\")\n",
    "  print(f\"Binary representation of flag: {r.flag:011b}\")\n",
    "  print(\"******************************************\"\\\n",
    "  \"************************\")\n",
    "\n",
    "  i += 1\n",
    "  if i > 5:\n",
    "    break;"
   ]
  },
  {
   "cell_type": "code",
   "execution_count": 126,
   "metadata": {
    "colab": {
     "base_uri": "https://localhost:8080/"
    },
    "id": "xmCjDC_bya9P",
    "outputId": "e44aa54a-c1a1-471e-8228-98ff039abb22"
   },
   "outputs": [
    {
     "name": "stdout",
     "output_type": "stream",
     "text": [
      "Number of mapped reads: 0\n",
      "Number of unmapped reads: 0\n",
      "Number of mapped reads: 2903864\n",
      "Number of unmapped reads: 17765\n",
      "Number of unmapped reads: 2921629\n"
     ]
    }
   ],
   "source": [
    "print(f\"Number of mapped reads: {bamfile.mapped}\")\n",
    "print(f\"Number of unmapped reads: {bamfile.unmapped}\")\n",
    "\n",
    "# Iz nekog razloga ovo gore ne radi, iako je merged-tumor.bam.bai dodat\n",
    "# (takodje sam probao i da indeksiram .bam fajl sa ps.index), \n",
    "# tako da sledi glupa petlja.\n",
    "\n",
    "# We need this line to restart the generator.\n",
    "bamfile = ps.AlignmentFile(\"sample_data/merged-tumor.bam\", \"rb\")\n",
    "mapped = 0\n",
    "unmapped = 0\n",
    "for r in bamfile:\n",
    "  if r.is_unmapped:\n",
    "    unmapped += 1\n",
    "  else:\n",
    "    mapped += 1\n",
    "\n",
    "print(f\"Number of mapped reads: {mapped}\")\n",
    "print(f\"Number of unmapped reads: {unmapped}\")\n",
    "print(f\"Total number of reads: {mapped + unmapped}\")"
   ]
  },
  {
   "cell_type": "code",
   "execution_count": 127,
   "metadata": {
    "colab": {
     "base_uri": "https://localhost:8080/"
    },
    "id": "FcIy0yxL58Ry",
    "outputId": "aaab3649-a126-4416-b930-600d1915ff93"
   },
   "outputs": [
    {
     "name": "stdout",
     "output_type": "stream",
     "text": [
      "Number of reads with zero mapping quality: 126628\n",
      "Average mapping quality: 55.91379158681681\n",
      "Average mapping quality without zeros: 58.446975510921106\n"
     ]
    }
   ],
   "source": [
    "# We need this line to restart the generator.\n",
    "bamfile = ps.AlignmentFile(\"sample_data/merged-tumor.bam\", \"rb\")\n",
    "\n",
    "num_of_zero_quality = 0\n",
    "average_map_quality = 0\n",
    "average_map_quality_no_zeros = 0\n",
    "for r in bamfile:\n",
    "\n",
    "  average_map_quality += r.mapping_quality\n",
    "  if r.mapping_quality == 0:\n",
    "    num_of_zero_quality += 1\n",
    "  else:\n",
    "    average_map_quality_no_zeros += r.mapping_quality\n",
    "\n",
    "average_map_quality /= mapped + unmapped\n",
    "average_map_quality_no_zeros /= mapped + unmapped - num_of_zero_quality\n",
    "\n",
    "print(f\"Number of reads with zero mapping quality: {num_of_zero_quality}\")\n",
    "print(f\"Average mapping quality: {average_map_quality}\")\n",
    "print(f\"Average mapping quality without zeros: {average_map_quality_no_zeros}\")"
   ]
  }
 ],
 "metadata": {
  "colab": {
   "collapsed_sections": [],
   "name": "GIExercise2.ipynb",
   "provenance": []
  },
  "kernelspec": {
   "display_name": "Python 3",
   "language": "python",
   "name": "python3"
  },
  "language_info": {
   "codemirror_mode": {
    "name": "ipython",
    "version": 3
   },
   "file_extension": ".py",
   "mimetype": "text/x-python",
   "name": "python",
   "nbconvert_exporter": "python",
   "pygments_lexer": "ipython3",
   "version": "3.8.5"
  }
 },
 "nbformat": 4,
 "nbformat_minor": 1
}
